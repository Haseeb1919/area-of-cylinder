{
 "cells": [
  {
   "cell_type": "markdown",
   "metadata": {},
   "source": [
    "# Data Generation and Splitting\n",
    "\n",
    "In this section, we generated synthetic data for cylinder surface area prediction and split it into training and testing datasets. Here's an overview:\n",
    "\n",
    "- **Data Generation**: We created a synthetic dataset with 50,000 data points, including random values for cylinder radius and height. Surface area was calculated using the formula for cylinder surface area.\n",
    "\n",
    "- **Data Saving**: The complete dataset was saved as 'complete_dataset.csv'. We then split this dataset into training and testing sets (80/20 split) using `train_test_split`.\n",
    "\n",
    "- **Data Export**: The training and testing datasets were exported as 'train.csv' and 'test.csv', respectively, for use in machine learning models.\n"
   ]
  },
  {
   "cell_type": "code",
   "execution_count": 2,
   "metadata": {},
   "outputs": [],
   "source": [
    "import pandas as pd\n",
    "import numpy as np\n",
    "from sklearn.model_selection import train_test_split\n",
    "\n",
    "# Generate data\n",
    "num_samples = 50000\n",
    "radius = np.random.uniform(low=0, high=100, size=num_samples)\n",
    "height = np.random.uniform(low=0, high=100, size=num_samples)\n",
    "surface_area = 2 * np.pi * radius * (height + radius)\n",
    "\n",
    "data = {'radius': radius, 'height': height, 'surface_area': surface_area}\n",
    "df = pd.DataFrame(data)\n",
    "#complete dataset\n",
    "df.to_csv('Dataset/complete_dataset.csv', index=False)\n",
    "\n",
    "\n",
    "# Split data into train and test\n",
    "train, test = train_test_split(df, test_size=0.2, random_state=42)\n",
    "train.to_csv('Dataset/train.csv', index=False)\n",
    "test.to_csv('Dataset/test.csv', index=False)\n",
    "\n",
    "\n",
    "\n"
   ]
  }
 ],
 "metadata": {
  "kernelspec": {
   "display_name": "machine_learning",
   "language": "python",
   "name": "python3"
  },
  "language_info": {
   "codemirror_mode": {
    "name": "ipython",
    "version": 3
   },
   "file_extension": ".py",
   "mimetype": "text/x-python",
   "name": "python",
   "nbconvert_exporter": "python",
   "pygments_lexer": "ipython3",
   "version": "3.11.3"
  },
  "orig_nbformat": 4
 },
 "nbformat": 4,
 "nbformat_minor": 2
}
