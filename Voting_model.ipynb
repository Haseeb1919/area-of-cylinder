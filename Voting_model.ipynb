{
 "cells": [
  {
   "cell_type": "markdown",
   "metadata": {},
   "source": [
    "# Ensemble Model: Voting Regressor with GridSearchCV\n",
    "\n",
    "In this section, we developed an ensemble model using a Voting Regressor that combines multiple regression models with hyperparameter tuning using GridSearchCV. Here's a summary of the key steps and results:\n",
    "\n",
    "### Preprocessing\n",
    "We standardized the data using StandardScaler for consistency across models.\n",
    "\n",
    "### Models Used\n",
    "   1. **Random Forest**: A decision tree-based ensemble model with hyperparameter tuning.\n",
    "      - Parameters tuned: n_estimators, random_state.\n",
    "      \n",
    "   2. **K-Nearest Neighbors (KNN)**: An instance-based regression model with hyperparameter tuning.\n",
    "      - Parameters tuned: n_neighbors.\n",
    "\n",
    "   3. **Support Vector Machine (SVM)**: A support vector regression model with hyperparameter tuning.\n",
    "      - Parameters tuned: C, gamma, kernel.\n",
    "\n",
    "   4. **Linear Regression**: A simple linear regression model.\n",
    "\n",
    "   5. **Neural Network**: A Multi-Layer Perceptron (MLP) regressor with hyperparameter tuning.\n",
    "      - Parameters tuned: ramdom_state, hidden_layer_sizes, activation, solver, max_iter.\n",
    "      - \n",
    "   6. **Decision Tree**: A decision tree regressor with hyperparameter tuning.\n",
    "      - Parameters tuned: random_state.\n",
    "\n",
    "\n",
    "**Note**: Only Random Forest and Decision Tree models were used for the final ensemble model. The other models were used for comparison purposes. \n",
    "\n",
    "\n",
    "\n",
    "### Voting Regressor\n",
    "The Voting Regressor was created to combine these models, each with its optimized hyperparameters.\n",
    "\n",
    "### Model Training\n",
    "The Voting Regressor was trained on the training data.\n",
    "\n",
    "### Model Evaluation\n",
    "We evaluated the ensemble model on the test data using, Mean Absolute Error (MAE), and R-squared (R2) Score.\n",
    "\n",
    "\n",
    "These metrics provide insight into the performance of the ensemble model, which leverages the strengths of various regression models with fine-tuned parameters.\n",
    "\n",
    "You can use this ensemble model to make accurate predictions based on your dataset.\n"
   ]
  },
  {
   "cell_type": "code",
   "execution_count": 16,
   "metadata": {},
   "outputs": [],
   "source": [
    "import pandas as pd\n",
    "import numpy as np\n",
    "from sklearn.model_selection import train_test_split, GridSearchCV\n",
    "from sklearn.preprocessing import StandardScaler\n",
    "from sklearn.ensemble import RandomForestRegressor, VotingRegressor\n",
    "from sklearn.neighbors import KNeighborsRegressor\n",
    "from sklearn.pipeline import Pipeline\n",
    "from sklearn.svm import SVR\n",
    "from sklearn.linear_model import LinearRegression\n",
    "from sklearn.tree import DecisionTreeRegressor\n",
    "\n",
    "from sklearn.neural_network import MLPRegressor\n",
    "\n",
    "from sklearn.metrics import mean_squared_error, mean_absolute_error, r2_score\n"
   ]
  },
  {
   "cell_type": "code",
   "execution_count": 17,
   "metadata": {},
   "outputs": [
    {
     "name": "stdout",
     "output_type": "stream",
     "text": [
      "Data is loaded\n"
     ]
    }
   ],
   "source": [
    "# loading data\n",
    "train = pd.read_csv('Dataset/train.csv')\n",
    "test = pd.read_csv('Dataset/test.csv')\n",
    "print(\"Data is loaded\")"
   ]
  },
  {
   "cell_type": "code",
   "execution_count": 18,
   "metadata": {},
   "outputs": [
    {
     "data": {
      "image/png": "[encoded data removed]",
      "text/plain": [
       "<Figure size 640x480 with 1 Axes>"
      ]
     },
     "metadata": {},
     "output_type": "display_data"
    },
    {
     "name": "stdout",
     "output_type": "stream",
     "text": [
      "(array([27956], dtype=int64), array([2], dtype=int64))\n"
     ]
    }
   ],
   "source": [
    "# Visualize the data distribution\n",
    "import matplotlib.pyplot as plt\n",
    "plt.boxplot(train['radius'])\n",
    "plt.boxplot(train['height'])\n",
    "plt.boxplot(train['surface_area'])\n",
    "plt.show()\n",
    "\n",
    "# Statistical outlier detection\n",
    "from scipy import stats\n",
    "z = np.abs(stats.zscore(train))\n",
    "print(np.where(z > 3))"
   ]
  },
  {
   "cell_type": "code",
   "execution_count": 39,
   "metadata": {},
   "outputs": [],
   "source": [
    "#removing outliers\n",
    "from scipy import stats\n",
    "z = np.abs(stats.zscore(train))\n",
    "train = train[(z < 3).all(axis=1)]"
   ]
  },
  {
   "cell_type": "code",
   "execution_count": 40,
   "metadata": {},
   "outputs": [],
   "source": [
    "# Load and split the data\n",
    "def split_data(train, test):\n",
    "    X_train = train[['radius', 'height']]\n",
    "    y_train = train['surface_area']\n",
    "    \n",
    "    X_test = test[['radius', 'height']]\n",
    "    y_test = test['surface_area']\n",
    "    \n",
    "    return X_train, X_test, y_train, y_test\n",
    "\n",
    "\n",
    "X_train, X_test, y_train, y_test = split_data(train, test)"
   ]
  },
  {
   "cell_type": "code",
   "execution_count": 41,
   "metadata": {},
   "outputs": [
    {
     "name": "stdout",
     "output_type": "stream",
     "text": [
      "Voting Regressor MAE: 122.8768279210872\n",
      "Voting Regressor R2: 0.999963585462431\n"
     ]
    }
   ],
   "source": [
    "#preprocessing\n",
    "preprocessor = StandardScaler()\n",
    "\n",
    "#Random Forest\n",
    "rf_model = RandomForestRegressor(n_estimators=100, random_state=42)\n",
    "\n",
    "# K-Nearest Neighbors \n",
    "knn_model = KNeighborsRegressor(n_neighbors=4)\n",
    "\n",
    "# # Support Vector Machine \n",
    "svm_model = SVR(kernel='rbf', C=100, gamma=0.1) \n",
    "\n",
    "# linear regression\n",
    "lr_model = LinearRegression()\n",
    "\n",
    "#decision tree\n",
    "dt_model = DecisionTreeRegressor(random_state=42)\n",
    "\n",
    "#neural network\n",
    "nn_model = MLPRegressor(random_state=42, max_iter=500, hidden_layer_sizes=(100,100,100), activation='relu', solver='adam')\n",
    "\n",
    "\n",
    "\n",
    "#add ridge regression\n",
    "from sklearn.linear_model import Ridge\n",
    "ridge_model = Ridge(alpha=0.5)\n",
    "\n",
    "\n",
    "\n",
    "# Voting Regressor that combines models\n",
    "voting_regressor = VotingRegressor([\n",
    "    ('random_forest', Pipeline([\n",
    "        ('preprocessing', preprocessor),\n",
    "        ('model', rf_model)\n",
    "    ])),\n",
    "    \n",
    "    # ('knn', Pipeline([\n",
    "    #     ('preprocessing', preprocessor),\n",
    "    #     ('model', knn_model)\n",
    "    # ])),\n",
    "\n",
    "    ('dt_model', Pipeline([   \n",
    "        ('preprocessing', preprocessor),\n",
    "        ('model', dt_model)\n",
    "    ]))\n",
    "\n",
    "    # ('ridge', Pipeline([\n",
    "    #     ('preprocessing', preprocessor),\n",
    "    #     ('model', ridge_model)\n",
    "    # ]))\n",
    "\n",
    "    # ('svm', Pipeline([\n",
    "    #     ('preprocessing', preprocessor),\n",
    "    #     ('model', svm_model)  \n",
    "    # ])),\n",
    "    # ('lr_model', Pipeline([\n",
    "    #     ('preprocessing', preprocessor),\n",
    "    #     ('model', lr_model)\n",
    "    # ])),\n",
    "    # ('nn_model', Pipeline([\n",
    "    #     ('preprocessing', preprocessor),\n",
    "    #     ('model', nn_model)\n",
    "    # ]))\n",
    "\n",
    "\n",
    "])\n",
    "\n",
    "# Fitting voting regressor\n",
    "voting_regressor.fit(X_train, y_train)\n",
    "\n",
    "# Predicting with combined model\n",
    "y_pred = voting_regressor.predict(X_test)\n",
    "\n",
    "# Evaluating the combined model\n",
    "mse = mean_squared_error(y_test, y_pred)\n",
    "mae = mean_absolute_error(y_test, y_pred)\n",
    "r2 = r2_score(y_test, y_pred)\n",
    "\n",
    "# Print evaluation metrics for the combined model\n",
    "print(f'Voting Regressor MAE: {mae}')\n",
    "print(f'Voting Regressor R2: {r2}')\n"
   ]
  },
  {
   "cell_type": "code",
   "execution_count": 43,
   "metadata": {},
   "outputs": [
    {
     "data": {
      "text/plain": [
       "['voting.joblib']"
      ]
     },
     "execution_count": 43,
     "metadata": {},
     "output_type": "execute_result"
    }
   ],
   "source": [
    "import joblib\n",
    "\n",
    "joblib.dump(voting_regressor, 'voting.joblib')\n"
   ]
  },
  {
   "cell_type": "code",
   "execution_count": null,
   "metadata": {},
   "outputs": [],
   "source": [
    "# #preprocessing\n",
    "# preprocessor = StandardScaler()\n",
    "\n",
    "# # Random Forest\n",
    "# rf_model = RandomForestRegressor()\n",
    "# # Parameter grid for Random Forest\n",
    "# rf_params = {'n_estimators': [100, 200, 500], \n",
    "#              'max_depth': [5, 10, 20],\n",
    "#              'max_features': ['auto', 'sqrt', 'log2']}\n",
    "\n",
    "\n",
    "\n",
    "# # K-Nearest Neighbors \n",
    "# knn_model = KNeighborsRegressor()\n",
    "# # Parameter grid for KNN  \n",
    "# knn_params = {'n_neighbors': [2, 5, 10],\n",
    "#               'weights': ['uniform', 'distance'],\n",
    "#               'leaf_size': [10, 20, 30]} \n",
    "\n",
    "\n",
    "\n",
    "# # # Support Vector Machine \n",
    "# svm_model = SVR() \n",
    "# # Parameter grid for SVM\n",
    "# svm_params = {'C': [0.1, 1, 10, 100], \n",
    "#               'gamma': ['scale', 'auto', 0.1, 1],\n",
    "#               'kernel': ['rbf', 'poly', 'sigmoid']}\n",
    "\n",
    "\n",
    "# #linear regression\n",
    "# from sklearn.linear_model import LinearRegression\n",
    "# lr_model = LinearRegression()\n",
    "\n",
    "\n",
    "# # Neural Network\n",
    "# nn_model = MLPRegressor()\n",
    "# # Define param grid\n",
    "# nn_params = {'hidden_layer_sizes':[(10,), (20,), (50,)],  \n",
    "#              'activation':['relu', 'tanh'],\n",
    "#              'solver':['sgd', 'adam'],\n",
    "#              'learning_rate':['constant','adaptive'],\n",
    "#              'max_iter':[100, 200, 500]}\n",
    "\n",
    "\n",
    "# # GridSearchCV for each model\n",
    "# gs_nn = GridSearchCV(nn_model, nn_params, cv=5)\n",
    "# gs_rf = GridSearchCV(rf_model, rf_params, cv=5)\n",
    "# gs_knn = GridSearchCV(knn_model, knn_params, cv=5)\n",
    "# gs_svm = GridSearchCV(svm_model, svm_params, cv=5)\n",
    "# gs_lr = GridSearchCV(lr_model, {}, cv=5)\n",
    "\n",
    "\n",
    "\n",
    "\n",
    "\n",
    "# # Voting Regressor that combines models\n",
    "# voting_regressor = VotingRegressor([\n",
    "#     ('rf', gs_rf),\n",
    "#     ('knn', gs_knn),\n",
    "#     # ('svm', gs_svm),\n",
    "#     # ('lr', gs_lr),\n",
    "#     # ('nn', gs_nn)\n",
    "# ])\n",
    "\n",
    "# # Fitting voting regressor\n",
    "# voting_regressor.fit(X_train, y_train)\n",
    "\n",
    "# # Predicting with combined model\n",
    "# y_pred = voting_regressor.predict(X_test)\n",
    "\n",
    "# # Evaluating the combined model\n",
    "# mse = mean_squared_error(y_test, y_pred)\n",
    "# mae = mean_absolute_error(y_test, y_pred)\n",
    "# r2 = r2_score(y_test, y_pred)\n",
    "\n",
    "# # Print evaluation metrics for the combined model\n",
    "# print(f'Voting Regressor MSE: {mse}')\n",
    "# print(f'Voting Regressor MAE: {mae}')\n",
    "# print(f'Voting Regressor R2: {r2}')\n"
   ]
  },
  {
   "cell_type": "code",
   "execution_count": null,
   "metadata": {},
   "outputs": [],
   "source": []
  }
 ],
 "metadata": {
  "kernelspec": {
   "display_name": "machine_learning",
   "language": "python",
   "name": "python3"
  },
  "language_info": {
   "codemirror_mode": {
    "name": "ipython",
    "version": 3
   },
   "file_extension": ".py",
   "mimetype": "text/x-python",
   "name": "python",
   "nbconvert_exporter": "python",
   "pygments_lexer": "ipython3",
   "version": "3.11.3"
  },
  "orig_nbformat": 4
 },
 "nbformat": 4,
 "nbformat_minor": 2
}
